{
 "cells": [
  {
   "cell_type": "markdown",
   "metadata": {},
   "source": [
    "# Exploratory Data Analysis\n",
    "\n",
    "To get started, we will prototype the workflow locally.\n",
    "\n",
    "**Warning:** this notebook may fail if your local machine does not have sufficient resources. "
   ]
  },
  {
   "cell_type": "markdown",
   "metadata": {},
   "source": [
    "## Install requirements\n",
    "\n",
    "Install required packages."
   ]
  },
  {
   "cell_type": "code",
   "execution_count": null,
   "metadata": {},
   "outputs": [],
   "source": [
    "!pip install --upgrade dask distributed bokeh fastparquet adlfs xgboost pandas"
   ]
  },
  {
   "cell_type": "markdown",
   "metadata": {},
   "source": [
    "## Get Data\n",
    "\n",
    "The data is modified from a Kaggle competition and hosted publicly."
   ]
  },
  {
   "cell_type": "markdown",
   "metadata": {},
   "source": [
    "start a distributed Client"
   ]
  },
  {
   "cell_type": "code",
   "execution_count": 1,
   "metadata": {},
   "outputs": [
    {
     "data": {
      "text/html": "<table style=\"border: 2px solid white;\">\n<tr>\n<td style=\"vertical-align: top; border: 0px solid white\">\n<h3 style=\"text-align: left;\">Client</h3>\n<ul style=\"text-align: left; list-style: none; margin: 0; padding: 0;\">\n  <li><b>Scheduler: </b>tcp://127.0.0.1:49636</li>\n  <li><b>Dashboard: </b><a href='http://127.0.0.1:8787/status' target='_blank'>http://127.0.0.1:8787/status</a></li>\n</ul>\n</td>\n<td style=\"vertical-align: top; border: 0px solid white\">\n<h3 style=\"text-align: left;\">Cluster</h3>\n<ul style=\"text-align: left; list-style:none; margin: 0; padding: 0;\">\n  <li><b>Workers: </b>3</li>\n  <li><b>Cores: </b>6</li>\n  <li><b>Memory: </b>68.72 GB</li>\n</ul>\n</td>\n</tr>\n</table>",
      "text/plain": "<Client: 'tcp://127.0.0.1:49636' processes=3 threads=6, memory=68.72 GB>"
     },
     "execution_count": 1,
     "metadata": {},
     "output_type": "execute_result"
    }
   ],
   "source": [
    "from distributed import Client\n",
    "\n",
    "c = Client()\n",
    "c"
   ]
  },
  {
   "cell_type": "markdown",
   "metadata": {},
   "source": [
    "initialize the Pythonic filesystem\n",
    "\n",
    "**Tip:** if you're not using public data, you need to provide data credentials. These can be retrieved through Azure ML Datastores, e.g.:\n",
    "\n",
    "```python\n",
    "from azureml.core import Workspace\n",
    "\n",
    "ws = Workspace.from_config()\n",
    "ds = ws.get_default_datastore() # ws.datastores[\"my-datastore-name\"]\n",
    "\n",
    "storage_options = {\n",
    "    \"account_name\": ds.account_name,\n",
    "    \"account_key\": ds.account_key\n",
    "}\n",
    "```"
   ]
  },
  {
   "cell_type": "code",
   "execution_count": 2,
   "metadata": {},
   "outputs": [
    {
     "data": {
      "text/plain": "<adlfs.spec.AzureBlobFileSystem at 0x7fbfd8bfbb50>"
     },
     "execution_count": 2,
     "metadata": {},
     "output_type": "execute_result"
    }
   ],
   "source": [
    "from adlfs import AzureBlobFileSystem\n",
    "\n",
    "container_name = \"malware\"\n",
    "storage_options = {\"account_name\": \"azuremlexamples\"}\n",
    "\n",
    "fs = AzureBlobFileSystem(**storage_options)\n",
    "fs"
   ]
  },
  {
   "cell_type": "markdown",
   "metadata": {},
   "source": [
    "list the processed (partitioned) files"
   ]
  },
  {
   "cell_type": "code",
   "execution_count": 3,
   "metadata": {},
   "outputs": [
    {
     "data": {
      "text/plain": "['malware/processed/test.parquet/', 'malware/processed/train.parquet/']"
     },
     "execution_count": 3,
     "metadata": {},
     "output_type": "execute_result"
    }
   ],
   "source": [
    "files = fs.ls(f\"{container_name}/processed\")\n",
    "files"
   ]
  },
  {
   "cell_type": "markdown",
   "metadata": {},
   "source": [
    "read data into a (dask) dataframe - note pandas also accepts the ``storage_options`` argument"
   ]
  },
  {
   "cell_type": "code",
   "execution_count": 4,
   "metadata": {},
   "outputs": [
    {
     "data": {
      "text/html": "<div><strong>Dask DataFrame Structure:</strong></div>\n<div>\n<style scoped>\n    .dataframe tbody tr th:only-of-type {\n        vertical-align: middle;\n    }\n\n    .dataframe tbody tr th {\n        vertical-align: top;\n    }\n\n    .dataframe thead th {\n        text-align: right;\n    }\n</style>\n<table border=\"1\" class=\"dataframe\">\n  <thead>\n    <tr style=\"text-align: right;\">\n      <th></th>\n      <th>MachineIdentifier</th>\n      <th>ProductName</th>\n      <th>EngineVersion</th>\n      <th>AppVersion</th>\n      <th>AvSigVersion</th>\n      <th>IsBeta</th>\n      <th>RtpStateBitfield</th>\n      <th>IsSxsPassiveMode</th>\n      <th>DefaultBrowsersIdentifier</th>\n      <th>AVProductStatesIdentifier</th>\n      <th>AVProductsInstalled</th>\n      <th>AVProductsEnabled</th>\n      <th>HasTpm</th>\n      <th>CountryIdentifier</th>\n      <th>CityIdentifier</th>\n      <th>OrganizationIdentifier</th>\n      <th>GeoNameIdentifier</th>\n      <th>LocaleEnglishNameIdentifier</th>\n      <th>Platform</th>\n      <th>Processor</th>\n      <th>OsVer</th>\n      <th>OsBuild</th>\n      <th>OsSuite</th>\n      <th>OsPlatformSubRelease</th>\n      <th>OsBuildLab</th>\n      <th>SkuEdition</th>\n      <th>IsProtected</th>\n      <th>AutoSampleOptIn</th>\n      <th>PuaMode</th>\n      <th>SMode</th>\n      <th>IeVerIdentifier</th>\n      <th>SmartScreen</th>\n      <th>Firewall</th>\n      <th>UacLuaenable</th>\n      <th>Census_MDC2FormFactor</th>\n      <th>Census_DeviceFamily</th>\n      <th>Census_OEMNameIdentifier</th>\n      <th>Census_OEMModelIdentifier</th>\n      <th>Census_ProcessorCoreCount</th>\n      <th>Census_ProcessorManufacturerIdentifier</th>\n      <th>Census_ProcessorModelIdentifier</th>\n      <th>Census_ProcessorClass</th>\n      <th>Census_PrimaryDiskTotalCapacity</th>\n      <th>Census_PrimaryDiskTypeName</th>\n      <th>Census_SystemVolumeTotalCapacity</th>\n      <th>Census_HasOpticalDiskDrive</th>\n      <th>Census_TotalPhysicalRAM</th>\n      <th>Census_ChassisTypeName</th>\n      <th>Census_InternalPrimaryDiagonalDisplaySizeInInches</th>\n      <th>Census_InternalPrimaryDisplayResolutionHorizontal</th>\n      <th>Census_InternalPrimaryDisplayResolutionVertical</th>\n      <th>Census_PowerPlatformRoleName</th>\n      <th>Census_InternalBatteryType</th>\n      <th>Census_InternalBatteryNumberOfCharges</th>\n      <th>Census_OSVersion</th>\n      <th>Census_OSArchitecture</th>\n      <th>Census_OSBranch</th>\n      <th>Census_OSBuildNumber</th>\n      <th>Census_OSBuildRevision</th>\n      <th>Census_OSEdition</th>\n      <th>Census_OSSkuName</th>\n      <th>Census_OSInstallTypeName</th>\n      <th>Census_OSInstallLanguageIdentifier</th>\n      <th>Census_OSUILocaleIdentifier</th>\n      <th>Census_OSWUAutoUpdateOptionsName</th>\n      <th>Census_IsPortableOperatingSystem</th>\n      <th>Census_GenuineStateName</th>\n      <th>Census_ActivationChannel</th>\n      <th>Census_IsFlightingInternal</th>\n      <th>Census_IsFlightsDisabled</th>\n      <th>Census_FlightRing</th>\n      <th>Census_ThresholdOptIn</th>\n      <th>Census_FirmwareManufacturerIdentifier</th>\n      <th>Census_FirmwareVersionIdentifier</th>\n      <th>Census_IsSecureBootEnabled</th>\n      <th>Census_IsWIMBootEnabled</th>\n      <th>Census_IsVirtualDevice</th>\n      <th>Census_IsTouchEnabled</th>\n      <th>Census_IsPenCapable</th>\n      <th>Census_IsAlwaysOnAlwaysConnectedCapable</th>\n      <th>Wdft_IsGamer</th>\n      <th>Wdft_RegionIdentifier</th>\n      <th>HasDetections</th>\n    </tr>\n    <tr>\n      <th>npartitions=256</th>\n      <th></th>\n      <th></th>\n      <th></th>\n      <th></th>\n      <th></th>\n      <th></th>\n      <th></th>\n      <th></th>\n      <th></th>\n      <th></th>\n      <th></th>\n      <th></th>\n      <th></th>\n      <th></th>\n      <th></th>\n      <th></th>\n      <th></th>\n      <th></th>\n      <th></th>\n      <th></th>\n      <th></th>\n      <th></th>\n      <th></th>\n      <th></th>\n      <th></th>\n      <th></th>\n      <th></th>\n      <th></th>\n      <th></th>\n      <th></th>\n      <th></th>\n      <th></th>\n      <th></th>\n      <th></th>\n      <th></th>\n      <th></th>\n      <th></th>\n      <th></th>\n      <th></th>\n      <th></th>\n      <th></th>\n      <th></th>\n      <th></th>\n      <th></th>\n      <th></th>\n      <th></th>\n      <th></th>\n      <th></th>\n      <th></th>\n      <th></th>\n      <th></th>\n      <th></th>\n      <th></th>\n      <th></th>\n      <th></th>\n      <th></th>\n      <th></th>\n      <th></th>\n      <th></th>\n      <th></th>\n      <th></th>\n      <th></th>\n      <th></th>\n      <th></th>\n      <th></th>\n      <th></th>\n      <th></th>\n      <th></th>\n      <th></th>\n      <th></th>\n      <th></th>\n      <th></th>\n      <th></th>\n      <th></th>\n      <th></th>\n      <th></th>\n      <th></th>\n      <th></th>\n      <th></th>\n      <th></th>\n      <th></th>\n      <th></th>\n      <th></th>\n    </tr>\n  </thead>\n  <tbody>\n    <tr>\n      <th></th>\n      <td>object</td>\n      <td>object</td>\n      <td>object</td>\n      <td>object</td>\n      <td>object</td>\n      <td>int64</td>\n      <td>float64</td>\n      <td>int64</td>\n      <td>float64</td>\n      <td>float64</td>\n      <td>float64</td>\n      <td>float64</td>\n      <td>int64</td>\n      <td>int64</td>\n      <td>float64</td>\n      <td>float64</td>\n      <td>float64</td>\n      <td>int64</td>\n      <td>object</td>\n      <td>object</td>\n      <td>object</td>\n      <td>int64</td>\n      <td>int64</td>\n      <td>object</td>\n      <td>object</td>\n      <td>object</td>\n      <td>float64</td>\n      <td>int64</td>\n      <td>object</td>\n      <td>float64</td>\n      <td>float64</td>\n      <td>object</td>\n      <td>float64</td>\n      <td>float64</td>\n      <td>object</td>\n      <td>object</td>\n      <td>float64</td>\n      <td>float64</td>\n      <td>float64</td>\n      <td>float64</td>\n      <td>float64</td>\n      <td>object</td>\n      <td>float64</td>\n      <td>object</td>\n      <td>float64</td>\n      <td>int64</td>\n      <td>float64</td>\n      <td>object</td>\n      <td>float64</td>\n      <td>float64</td>\n      <td>float64</td>\n      <td>object</td>\n      <td>object</td>\n      <td>float64</td>\n      <td>object</td>\n      <td>object</td>\n      <td>object</td>\n      <td>int64</td>\n      <td>int64</td>\n      <td>object</td>\n      <td>object</td>\n      <td>object</td>\n      <td>float64</td>\n      <td>int64</td>\n      <td>object</td>\n      <td>int64</td>\n      <td>object</td>\n      <td>object</td>\n      <td>float64</td>\n      <td>float64</td>\n      <td>object</td>\n      <td>float64</td>\n      <td>float64</td>\n      <td>float64</td>\n      <td>int64</td>\n      <td>float64</td>\n      <td>float64</td>\n      <td>int64</td>\n      <td>int64</td>\n      <td>float64</td>\n      <td>float64</td>\n      <td>float64</td>\n      <td>int64</td>\n    </tr>\n    <tr>\n      <th></th>\n      <td>...</td>\n      <td>...</td>\n      <td>...</td>\n      <td>...</td>\n      <td>...</td>\n      <td>...</td>\n      <td>...</td>\n      <td>...</td>\n      <td>...</td>\n      <td>...</td>\n      <td>...</td>\n      <td>...</td>\n      <td>...</td>\n      <td>...</td>\n      <td>...</td>\n      <td>...</td>\n      <td>...</td>\n      <td>...</td>\n      <td>...</td>\n      <td>...</td>\n      <td>...</td>\n      <td>...</td>\n      <td>...</td>\n      <td>...</td>\n      <td>...</td>\n      <td>...</td>\n      <td>...</td>\n      <td>...</td>\n      <td>...</td>\n      <td>...</td>\n      <td>...</td>\n      <td>...</td>\n      <td>...</td>\n      <td>...</td>\n      <td>...</td>\n      <td>...</td>\n      <td>...</td>\n      <td>...</td>\n      <td>...</td>\n      <td>...</td>\n      <td>...</td>\n      <td>...</td>\n      <td>...</td>\n      <td>...</td>\n      <td>...</td>\n      <td>...</td>\n      <td>...</td>\n      <td>...</td>\n      <td>...</td>\n      <td>...</td>\n      <td>...</td>\n      <td>...</td>\n      <td>...</td>\n      <td>...</td>\n      <td>...</td>\n      <td>...</td>\n      <td>...</td>\n      <td>...</td>\n      <td>...</td>\n      <td>...</td>\n      <td>...</td>\n      <td>...</td>\n      <td>...</td>\n      <td>...</td>\n      <td>...</td>\n      <td>...</td>\n      <td>...</td>\n      <td>...</td>\n      <td>...</td>\n      <td>...</td>\n      <td>...</td>\n      <td>...</td>\n      <td>...</td>\n      <td>...</td>\n      <td>...</td>\n      <td>...</td>\n      <td>...</td>\n      <td>...</td>\n      <td>...</td>\n      <td>...</td>\n      <td>...</td>\n      <td>...</td>\n      <td>...</td>\n    </tr>\n    <tr>\n      <th>...</th>\n      <td>...</td>\n      <td>...</td>\n      <td>...</td>\n      <td>...</td>\n      <td>...</td>\n      <td>...</td>\n      <td>...</td>\n      <td>...</td>\n      <td>...</td>\n      <td>...</td>\n      <td>...</td>\n      <td>...</td>\n      <td>...</td>\n      <td>...</td>\n      <td>...</td>\n      <td>...</td>\n      <td>...</td>\n      <td>...</td>\n      <td>...</td>\n      <td>...</td>\n      <td>...</td>\n      <td>...</td>\n      <td>...</td>\n      <td>...</td>\n      <td>...</td>\n      <td>...</td>\n      <td>...</td>\n      <td>...</td>\n      <td>...</td>\n      <td>...</td>\n      <td>...</td>\n      <td>...</td>\n      <td>...</td>\n      <td>...</td>\n      <td>...</td>\n      <td>...</td>\n      <td>...</td>\n      <td>...</td>\n      <td>...</td>\n      <td>...</td>\n      <td>...</td>\n      <td>...</td>\n      <td>...</td>\n      <td>...</td>\n      <td>...</td>\n      <td>...</td>\n      <td>...</td>\n      <td>...</td>\n      <td>...</td>\n      <td>...</td>\n      <td>...</td>\n      <td>...</td>\n      <td>...</td>\n      <td>...</td>\n      <td>...</td>\n      <td>...</td>\n      <td>...</td>\n      <td>...</td>\n      <td>...</td>\n      <td>...</td>\n      <td>...</td>\n      <td>...</td>\n      <td>...</td>\n      <td>...</td>\n      <td>...</td>\n      <td>...</td>\n      <td>...</td>\n      <td>...</td>\n      <td>...</td>\n      <td>...</td>\n      <td>...</td>\n      <td>...</td>\n      <td>...</td>\n      <td>...</td>\n      <td>...</td>\n      <td>...</td>\n      <td>...</td>\n      <td>...</td>\n      <td>...</td>\n      <td>...</td>\n      <td>...</td>\n      <td>...</td>\n      <td>...</td>\n    </tr>\n    <tr>\n      <th></th>\n      <td>...</td>\n      <td>...</td>\n      <td>...</td>\n      <td>...</td>\n      <td>...</td>\n      <td>...</td>\n      <td>...</td>\n      <td>...</td>\n      <td>...</td>\n      <td>...</td>\n      <td>...</td>\n      <td>...</td>\n      <td>...</td>\n      <td>...</td>\n      <td>...</td>\n      <td>...</td>\n      <td>...</td>\n      <td>...</td>\n      <td>...</td>\n      <td>...</td>\n      <td>...</td>\n      <td>...</td>\n      <td>...</td>\n      <td>...</td>\n      <td>...</td>\n      <td>...</td>\n      <td>...</td>\n      <td>...</td>\n      <td>...</td>\n      <td>...</td>\n      <td>...</td>\n      <td>...</td>\n      <td>...</td>\n      <td>...</td>\n      <td>...</td>\n      <td>...</td>\n      <td>...</td>\n      <td>...</td>\n      <td>...</td>\n      <td>...</td>\n      <td>...</td>\n      <td>...</td>\n      <td>...</td>\n      <td>...</td>\n      <td>...</td>\n      <td>...</td>\n      <td>...</td>\n      <td>...</td>\n      <td>...</td>\n      <td>...</td>\n      <td>...</td>\n      <td>...</td>\n      <td>...</td>\n      <td>...</td>\n      <td>...</td>\n      <td>...</td>\n      <td>...</td>\n      <td>...</td>\n      <td>...</td>\n      <td>...</td>\n      <td>...</td>\n      <td>...</td>\n      <td>...</td>\n      <td>...</td>\n      <td>...</td>\n      <td>...</td>\n      <td>...</td>\n      <td>...</td>\n      <td>...</td>\n      <td>...</td>\n      <td>...</td>\n      <td>...</td>\n      <td>...</td>\n      <td>...</td>\n      <td>...</td>\n      <td>...</td>\n      <td>...</td>\n      <td>...</td>\n      <td>...</td>\n      <td>...</td>\n      <td>...</td>\n      <td>...</td>\n      <td>...</td>\n    </tr>\n    <tr>\n      <th></th>\n      <td>...</td>\n      <td>...</td>\n      <td>...</td>\n      <td>...</td>\n      <td>...</td>\n      <td>...</td>\n      <td>...</td>\n      <td>...</td>\n      <td>...</td>\n      <td>...</td>\n      <td>...</td>\n      <td>...</td>\n      <td>...</td>\n      <td>...</td>\n      <td>...</td>\n      <td>...</td>\n      <td>...</td>\n      <td>...</td>\n      <td>...</td>\n      <td>...</td>\n      <td>...</td>\n      <td>...</td>\n      <td>...</td>\n      <td>...</td>\n      <td>...</td>\n      <td>...</td>\n      <td>...</td>\n      <td>...</td>\n      <td>...</td>\n      <td>...</td>\n      <td>...</td>\n      <td>...</td>\n      <td>...</td>\n      <td>...</td>\n      <td>...</td>\n      <td>...</td>\n      <td>...</td>\n      <td>...</td>\n      <td>...</td>\n      <td>...</td>\n      <td>...</td>\n      <td>...</td>\n      <td>...</td>\n      <td>...</td>\n      <td>...</td>\n      <td>...</td>\n      <td>...</td>\n      <td>...</td>\n      <td>...</td>\n      <td>...</td>\n      <td>...</td>\n      <td>...</td>\n      <td>...</td>\n      <td>...</td>\n      <td>...</td>\n      <td>...</td>\n      <td>...</td>\n      <td>...</td>\n      <td>...</td>\n      <td>...</td>\n      <td>...</td>\n      <td>...</td>\n      <td>...</td>\n      <td>...</td>\n      <td>...</td>\n      <td>...</td>\n      <td>...</td>\n      <td>...</td>\n      <td>...</td>\n      <td>...</td>\n      <td>...</td>\n      <td>...</td>\n      <td>...</td>\n      <td>...</td>\n      <td>...</td>\n      <td>...</td>\n      <td>...</td>\n      <td>...</td>\n      <td>...</td>\n      <td>...</td>\n      <td>...</td>\n      <td>...</td>\n      <td>...</td>\n    </tr>\n  </tbody>\n</table>\n</div>\n<div>Dask Name: read-parquet, 256 tasks</div>",
      "text/plain": "Dask DataFrame Structure:\n                MachineIdentifier ProductName EngineVersion AppVersion AvSigVersion IsBeta RtpStateBitfield IsSxsPassiveMode DefaultBrowsersIdentifier AVProductStatesIdentifier AVProductsInstalled AVProductsEnabled HasTpm CountryIdentifier CityIdentifier OrganizationIdentifier GeoNameIdentifier LocaleEnglishNameIdentifier Platform Processor   OsVer OsBuild OsSuite OsPlatformSubRelease OsBuildLab SkuEdition IsProtected AutoSampleOptIn PuaMode    SMode IeVerIdentifier SmartScreen Firewall UacLuaenable Census_MDC2FormFactor Census_DeviceFamily Census_OEMNameIdentifier Census_OEMModelIdentifier Census_ProcessorCoreCount Census_ProcessorManufacturerIdentifier Census_ProcessorModelIdentifier Census_ProcessorClass Census_PrimaryDiskTotalCapacity Census_PrimaryDiskTypeName Census_SystemVolumeTotalCapacity Census_HasOpticalDiskDrive Census_TotalPhysicalRAM Census_ChassisTypeName Census_InternalPrimaryDiagonalDisplaySizeInInches Census_InternalPrimaryDisplayResolutionHorizontal Census_InternalPrimaryDisplayResolutionVertical Census_PowerPlatformRoleName Census_InternalBatteryType Census_InternalBatteryNumberOfCharges Census_OSVersion Census_OSArchitecture Census_OSBranch Census_OSBuildNumber Census_OSBuildRevision Census_OSEdition Census_OSSkuName Census_OSInstallTypeName Census_OSInstallLanguageIdentifier Census_OSUILocaleIdentifier Census_OSWUAutoUpdateOptionsName Census_IsPortableOperatingSystem Census_GenuineStateName Census_ActivationChannel Census_IsFlightingInternal Census_IsFlightsDisabled Census_FlightRing Census_ThresholdOptIn Census_FirmwareManufacturerIdentifier Census_FirmwareVersionIdentifier Census_IsSecureBootEnabled Census_IsWIMBootEnabled Census_IsVirtualDevice Census_IsTouchEnabled Census_IsPenCapable Census_IsAlwaysOnAlwaysConnectedCapable Wdft_IsGamer Wdft_RegionIdentifier HasDetections\nnpartitions=256                                                                                                                                                                                                                                                                                                                                                                                                                                                                                                                                                                                                                                                                                                                                                                                                                                                                                                                                                                                                                                                                                                                                                                                                                                                                                                                                                                                                                                                                                                                                                                                                                                                                                                                                                                                                                                                                                     \n                           object      object        object     object       object  int64          float64            int64                   float64                   float64             float64           float64  int64             int64        float64                float64           float64                       int64   object    object  object   int64   int64               object     object     object     float64           int64  object  float64         float64      object  float64      float64                object              object                  float64                   float64                   float64                                float64                         float64                object                         float64                     object                          float64                      int64                 float64                 object                                           float64                                           float64                                         float64                       object                     object                               float64           object                object          object                int64                  int64           object           object                   object                            float64                       int64                           object                            int64                  object                   object                    float64                  float64            object               float64                               float64                          float64                      int64                 float64                float64                 int64               int64                                 float64      float64               float64         int64\n                              ...         ...           ...        ...          ...    ...              ...              ...                       ...                       ...                 ...               ...    ...               ...            ...                    ...               ...                         ...      ...       ...     ...     ...     ...                  ...        ...        ...         ...             ...     ...      ...             ...         ...      ...          ...                   ...                 ...                      ...                       ...                       ...                                    ...                             ...                   ...                             ...                        ...                              ...                        ...                     ...                    ...                                               ...                                               ...                                             ...                          ...                        ...                                   ...              ...                   ...             ...                  ...                    ...              ...              ...                      ...                                ...                         ...                              ...                              ...                     ...                      ...                        ...                      ...               ...                   ...                                   ...                              ...                        ...                     ...                    ...                   ...                 ...                                     ...          ...                   ...           ...\n...                           ...         ...           ...        ...          ...    ...              ...              ...                       ...                       ...                 ...               ...    ...               ...            ...                    ...               ...                         ...      ...       ...     ...     ...     ...                  ...        ...        ...         ...             ...     ...      ...             ...         ...      ...          ...                   ...                 ...                      ...                       ...                       ...                                    ...                             ...                   ...                             ...                        ...                              ...                        ...                     ...                    ...                                               ...                                               ...                                             ...                          ...                        ...                                   ...              ...                   ...             ...                  ...                    ...              ...              ...                      ...                                ...                         ...                              ...                              ...                     ...                      ...                        ...                      ...               ...                   ...                                   ...                              ...                        ...                     ...                    ...                   ...                 ...                                     ...          ...                   ...           ...\n                              ...         ...           ...        ...          ...    ...              ...              ...                       ...                       ...                 ...               ...    ...               ...            ...                    ...               ...                         ...      ...       ...     ...     ...     ...                  ...        ...        ...         ...             ...     ...      ...             ...         ...      ...          ...                   ...                 ...                      ...                       ...                       ...                                    ...                             ...                   ...                             ...                        ...                              ...                        ...                     ...                    ...                                               ...                                               ...                                             ...                          ...                        ...                                   ...              ...                   ...             ...                  ...                    ...              ...              ...                      ...                                ...                         ...                              ...                              ...                     ...                      ...                        ...                      ...               ...                   ...                                   ...                              ...                        ...                     ...                    ...                   ...                 ...                                     ...          ...                   ...           ...\n                              ...         ...           ...        ...          ...    ...              ...              ...                       ...                       ...                 ...               ...    ...               ...            ...                    ...               ...                         ...      ...       ...     ...     ...     ...                  ...        ...        ...         ...             ...     ...      ...             ...         ...      ...          ...                   ...                 ...                      ...                       ...                       ...                                    ...                             ...                   ...                             ...                        ...                              ...                        ...                     ...                    ...                                               ...                                               ...                                             ...                          ...                        ...                                   ...              ...                   ...             ...                  ...                    ...              ...              ...                      ...                                ...                         ...                              ...                              ...                     ...                      ...                        ...                      ...               ...                   ...                                   ...                              ...                        ...                     ...                    ...                   ...                 ...                                     ...          ...                   ...           ...\nDask Name: read-parquet, 256 tasks"
     },
     "execution_count": 4,
     "metadata": {},
     "output_type": "execute_result"
    }
   ],
   "source": [
    "import dask.dataframe as dd\n",
    "\n",
    "for f in files:\n",
    "    if \"train\" in f:\n",
    "        df_train = dd.read_parquet(f\"az://{f}\", storage_options=storage_options)\n",
    "    elif \"test\" in f:\n",
    "        df_test = dd.read_parquet(f\"az://{f}\", storage_options=storage_options)\n",
    "\n",
    "df_train"
   ]
  },
  {
   "cell_type": "markdown",
   "metadata": {},
   "source": [
    "## Test stuff "
   ]
  },
  {
   "cell_type": "code",
   "execution_count": 5,
   "metadata": {},
   "outputs": [],
   "source": [
    "import xgboost as xgb \n",
    "\n",
    "def train_a_model(df, params, num_boost_round=10):\n",
    "    # load in dataframe\n",
    "    df = df.compute() \n",
    "\n",
    "    # throw out non-numeric columns [insert real data prep here]\n",
    "    cols = [col for col in df.columns if df.dtypes[col] != \"object\"]\n",
    "    data = df[cols].drop(\"HasDetections\", axis=1).values\n",
    "    label = df[\"HasDetections\"].values\n",
    "\n",
    "    # train xgboost\n",
    "    dtrain = xgb.DMatrix(data, label=label)\n",
    "    model = xgb.train(params, dtrain, num_boost_round=num_boost_round)\n",
    "\n",
    "    return model"
   ]
  },
  {
   "cell_type": "code",
   "execution_count": 6,
   "metadata": {},
   "outputs": [],
   "source": [
    "num_boost_round = 10\n",
    "params = {\n",
    "    \"objective\": \"binary:logistic\",\n",
    "    \"learning_rate\": 0.1,\n",
    "    \"gamma\": 0,\n",
    "    \"max_depth\": 8,\n",
    "}"
   ]
  },
  {
   "cell_type": "code",
   "execution_count": 7,
   "metadata": {},
   "outputs": [
    {
     "name": "stdout",
     "output_type": "stream",
     "text": [
      "[16:25:50] WARNING: /Users/travis/build/dmlc/xgboost/src/learner.cc:1061: Starting in XGBoost 1.3.0, the default evaluation metric used with the objective 'binary:logistic' was changed from 'error' to 'logloss'. Explicitly set eval_metric if you'd like to restore the old behavior.\n"
     ]
    },
    {
     "data": {
      "text/plain": "<xgboost.core.Booster at 0x7fbfd9d6d490>"
     },
     "execution_count": 7,
     "metadata": {},
     "output_type": "execute_result"
    }
   ],
   "source": [
    "model = train_a_model(df_train.partitions[0], params, num_boost_round=num_boost_round)\n",
    "model"
   ]
  },
  {
   "cell_type": "code",
   "execution_count": 8,
   "metadata": {},
   "outputs": [
    {
     "data": {
      "text/plain": "[<Future: pending, key: train_a_model-84139361f42823467b419618588626d6>,\n <Future: pending, key: train_a_model-55a828f5bdb3f3f3b8828a87e5d294a4>,\n <Future: pending, key: train_a_model-22454eddd571a4a404a8b5c313db565c>,\n <Future: pending, key: train_a_model-074dae329de519db335d0f0867cd785f>,\n <Future: pending, key: train_a_model-f1737f48a2e65e7886a5e31d08917093>,\n <Future: pending, key: train_a_model-d7eef2fb730f9d1b3fa5a750314d5453>,\n <Future: pending, key: train_a_model-b0c872f9f62b773f539b0e14a469eb2e>,\n <Future: pending, key: train_a_model-3120c56cc49906d2a00b374469d6bc1e>,\n <Future: pending, key: train_a_model-6964d7fd4dddd3f44d4dc8607304df8f>,\n <Future: pending, key: train_a_model-31453a0623b3b522a1eb16ec370c7d95>,\n <Future: pending, key: train_a_model-5d85b2b85321fdb3963ad34d31e765e0>,\n <Future: pending, key: train_a_model-f7a6c5526988f2e69a4b243888ea425e>,\n <Future: pending, key: train_a_model-8bb65470e85d272429a0a3cd9d21c9fa>,\n <Future: pending, key: train_a_model-bad42a189a4d6c75c2fd68ba65bb51db>,\n <Future: pending, key: train_a_model-89d4b0985bccf61593fe4b5eeb0140e9>,\n <Future: pending, key: train_a_model-f549653475102bd63601d68586e56911>,\n <Future: pending, key: train_a_model-1ea6752a50982cec3b64e319fb1fd6dc>,\n <Future: pending, key: train_a_model-9786f3132021aa929bb3407ea2a961a8>,\n <Future: pending, key: train_a_model-6573ee60d59073532acefa1953cc0d43>,\n <Future: pending, key: train_a_model-971660010acaaf8bd7f49cc6c8a19f2f>,\n <Future: pending, key: train_a_model-e13b3eaaa6959452883aabed32df2a03>,\n <Future: pending, key: train_a_model-0abbb22c4a643cb1dae190f1bcde78a4>,\n <Future: pending, key: train_a_model-9ac4cc6f7255be6fc21998d281b0d536>,\n <Future: pending, key: train_a_model-142e2469b04b832f1318b1c971e3b19e>,\n <Future: pending, key: train_a_model-96509e27b2992b6677473810f146498d>,\n <Future: pending, key: train_a_model-c0ef02e670ac04592243886906844da0>,\n <Future: pending, key: train_a_model-6f27eb898914875cc672d4ca6f53093c>,\n <Future: pending, key: train_a_model-ed38e84a74920cdb7571da67ad5a0887>,\n <Future: pending, key: train_a_model-43595f4c831731d4540f7c90d3ee9b30>,\n <Future: pending, key: train_a_model-5d4c528d4847e233396dc2ba76fc1796>,\n <Future: pending, key: train_a_model-7d08c90bf26ab4b59230d979b02a56af>,\n <Future: pending, key: train_a_model-ae1f0ea851fcdfb9236738e62a120286>,\n <Future: pending, key: train_a_model-5f688213668e8e7886af50b8aab5780c>,\n <Future: pending, key: train_a_model-250941157251267ddeb42674fa58f9a7>,\n <Future: pending, key: train_a_model-07ad37884ce4c3852186dfada278433d>,\n <Future: pending, key: train_a_model-b9df4135d272a005b83bc3c0cb27b579>,\n <Future: pending, key: train_a_model-c1a83f5856a0fd2d34cabfba7e6a4866>,\n <Future: pending, key: train_a_model-e3ef292c718dbcf192a828a27b86914e>,\n <Future: pending, key: train_a_model-7bd30dcd0c6700c019d9a620f2bb226e>,\n <Future: pending, key: train_a_model-594c736f114f33029f8e295723ec808a>,\n <Future: pending, key: train_a_model-21cec460be8ffed53cbf334b0219975e>,\n <Future: pending, key: train_a_model-fe21ed532a173cb057ba04f148a01893>,\n <Future: pending, key: train_a_model-b0f0a9d041ffdaac573845f244711d1e>,\n <Future: pending, key: train_a_model-5ab5926275b7c8a7e722365589d846ab>,\n <Future: pending, key: train_a_model-dda83684bf233f52dbd1dd3cf5552b9f>,\n <Future: pending, key: train_a_model-5e722e95f98265a439981d049e5deb71>,\n <Future: pending, key: train_a_model-b9acf96b3f3802247d6e3576bd5ecfe9>,\n <Future: pending, key: train_a_model-30d9637a185feb443e3297c9a4f0faff>,\n <Future: pending, key: train_a_model-b172aefb792e09fd93e8d8fc8ef830da>,\n <Future: pending, key: train_a_model-5d4b5de300ae7642b0ec0d2f778937c6>,\n <Future: pending, key: train_a_model-f128f035ec588d772d13b4c142c42170>,\n <Future: pending, key: train_a_model-f0595bcd27bdfc40db4df703be72e904>,\n <Future: pending, key: train_a_model-4d590afbeb981fa029a8978f7e4d40a7>,\n <Future: pending, key: train_a_model-d4a47ec0263dc79dfaf8efd07311c986>,\n <Future: pending, key: train_a_model-8e5e3281bdf27b72696a01188f92d1e8>,\n <Future: pending, key: train_a_model-acacef7dcf06cf1a22b7d3c06f856a62>,\n <Future: pending, key: train_a_model-4302263f053db50e916c19c87e05439d>,\n <Future: pending, key: train_a_model-c8b2d65570d5f698a2dd0c5b371a4e6d>,\n <Future: pending, key: train_a_model-f151690543764cfbbc4f8965a2e8143a>,\n <Future: pending, key: train_a_model-a52670e0efb53e9aaa343869827e73db>,\n <Future: pending, key: train_a_model-cfa15b855714d72bfca76a8ddcb85f60>,\n <Future: pending, key: train_a_model-882500fbfac579fa0fbe0f7f78a16d74>,\n <Future: pending, key: train_a_model-fd83ae1e8a3764eb829171663c8bd846>,\n <Future: pending, key: train_a_model-9660fdc852384ff576ddc9a7bd3617d4>,\n <Future: pending, key: train_a_model-ed197dae2922ab2e6839e18c69aa9928>,\n <Future: pending, key: train_a_model-41fbdbce85df96086804f1844b9dfa74>,\n <Future: pending, key: train_a_model-de416cec4fbbee2b37124230bb7fd34e>,\n <Future: pending, key: train_a_model-f0d6784553dc4d1fa90a100fd0430ff1>,\n <Future: pending, key: train_a_model-a8da0995938d7973cd814f5a3b14390d>,\n <Future: pending, key: train_a_model-8d380c8e295830a14c4363eca73df4dc>,\n <Future: pending, key: train_a_model-7f3fbde82aa75e547b5144c439e00a9f>,\n <Future: pending, key: train_a_model-d82a60e6225b2ac06f748cc1b38609ff>,\n <Future: pending, key: train_a_model-bb68c5cbf0a121c12686b9dc14438a6c>,\n <Future: pending, key: train_a_model-2125ffe4813bd31d72d5ee2af0c27a5b>,\n <Future: pending, key: train_a_model-33cbca7b37aeac84fb909ab6ceebcdf1>,\n <Future: pending, key: train_a_model-21187fdc8b74440fb3651d3dac8a57e1>,\n <Future: pending, key: train_a_model-cf57c25c3ddd614ab99a8159ea3955be>,\n <Future: pending, key: train_a_model-54d63b3ac9e1591d43c2142c6e3b4e74>,\n <Future: pending, key: train_a_model-65ff2b993b268d47c0604fa21d6c1a76>,\n <Future: pending, key: train_a_model-19905f131f93879e84df1cbeafd9ac1e>,\n <Future: pending, key: train_a_model-9e610262e08427f8821b58f9d5e247a8>,\n <Future: pending, key: train_a_model-18b4a8e7b21032cd6c524de5abf5deea>,\n <Future: pending, key: train_a_model-f8926a0229b27161c98903621854401e>,\n <Future: pending, key: train_a_model-173d6cdd22f0d3062ea81a41cb569301>,\n <Future: pending, key: train_a_model-44a69e801a67a3a6ad61020e26350ba5>,\n <Future: pending, key: train_a_model-49244530804fba36439891773db20cb0>,\n <Future: pending, key: train_a_model-a92d9bb325c0e23af3766d8f0dfaeacd>,\n <Future: pending, key: train_a_model-f447caa891d277449958f1eb15738444>,\n <Future: pending, key: train_a_model-0bcde8e971c2f7f9b50c0b88b8b3c4f4>,\n <Future: pending, key: train_a_model-99c66a9a50ba3e70cf43d2f8fef967b8>,\n <Future: pending, key: train_a_model-e9530bbb2b1ffd6741e806a6c75751b5>,\n <Future: pending, key: train_a_model-9659109231368e31fdc51e8063227e83>,\n <Future: pending, key: train_a_model-16652acb423f4e382a46ed87af1de674>,\n <Future: pending, key: train_a_model-52116b7599b3bfbe752cc9a10e549c67>,\n <Future: pending, key: train_a_model-ca92f06f9f900c2aeb117d01f67779a5>,\n <Future: pending, key: train_a_model-56fd43036e17808ad61c631447d66e36>,\n <Future: pending, key: train_a_model-fdbd43749e7779dd0200bc41aa176633>,\n <Future: pending, key: train_a_model-014c5356f5c7ea92139eed6b5a4c97c0>,\n <Future: pending, key: train_a_model-a95f02b759c255fec7f514d76aafc65e>,\n <Future: pending, key: train_a_model-5729932c60bf869e70bfed5673b9f1ae>,\n <Future: pending, key: train_a_model-fb863eed2a268a3b259ac7c8c5933f65>,\n <Future: pending, key: train_a_model-1e66526122ebfe734e6ba76ec7f1d29a>,\n <Future: pending, key: train_a_model-23ff427cf61120911a6298eb4bf13bc8>,\n <Future: pending, key: train_a_model-3a167f3378fa76ddf1970827e9e7bb8c>,\n <Future: pending, key: train_a_model-3ad3caa0303d6ae61157a035652e79b7>,\n <Future: pending, key: train_a_model-dedb65c140fe5e28d472e46149a75e02>,\n <Future: pending, key: train_a_model-f85282792e4bc3ca30d202998438739c>,\n <Future: pending, key: train_a_model-61e4813e6c814c6bb65536ac535475ff>,\n <Future: pending, key: train_a_model-31c1ebf3f0f135af084a238698346503>,\n <Future: pending, key: train_a_model-9ea75f7a34916445dfc339c097005518>,\n <Future: pending, key: train_a_model-a47c509e860692eb40a9b659b6185782>,\n <Future: pending, key: train_a_model-944bfe0f0ae5297736d795ffe51c2f53>,\n <Future: pending, key: train_a_model-5b3f85b97a6c8f358bab78c777fa052b>,\n <Future: pending, key: train_a_model-ef9b4fc188745f7aeec8503fb920a683>,\n <Future: pending, key: train_a_model-e86230fca2ed21ed7f7aa6aa4156490c>,\n <Future: pending, key: train_a_model-4392bc89b393a8740942e8656fc04266>,\n <Future: pending, key: train_a_model-41acbd2328109290f7abe736267f45c3>,\n <Future: pending, key: train_a_model-fa6a0f15f91a87a1b3f45f1d5a576d1d>,\n <Future: pending, key: train_a_model-e2f5c15552a36ed2b241c286855958cc>,\n <Future: pending, key: train_a_model-febee70449aa8bb774dfba4ebec2ec95>,\n <Future: pending, key: train_a_model-2a6b346ab6eef4afc10c80eb1a847845>,\n <Future: pending, key: train_a_model-d91b4f5083775b2913a8983827d42c72>,\n <Future: pending, key: train_a_model-98ec1a708615adb81b16faa389f519bb>,\n <Future: pending, key: train_a_model-de5277a1c028bfea4ef88a973da98d60>,\n <Future: pending, key: train_a_model-7ce39a3f375de932e5fcbfaeb241d275>,\n <Future: pending, key: train_a_model-8e4a5edc5512c7efc2dea0024b686a95>,\n <Future: pending, key: train_a_model-5a66e10938865327bafe35b01d55b091>,\n <Future: pending, key: train_a_model-ab130b3bfb16943b0f971ac1c3f34cbb>,\n <Future: pending, key: train_a_model-a0e0b62678d81043ca412f3f39798bfe>,\n <Future: pending, key: train_a_model-b61032c6660bb47557701a76c64b15f0>,\n <Future: pending, key: train_a_model-7e3aa8e8d45499b9f98860066f0f9868>,\n <Future: pending, key: train_a_model-a8d1fd55689ea170910e9c356f36fcd9>,\n <Future: pending, key: train_a_model-ba256df61524ab7213d712dcd2f6281d>,\n <Future: pending, key: train_a_model-29b427b8079fd4d6423466680966ad11>,\n <Future: pending, key: train_a_model-3f61c7a01ec69ddb94e5ae4ec6fd0a4b>,\n <Future: pending, key: train_a_model-b1c926144cb09c7d0ce187256c3411ec>,\n <Future: pending, key: train_a_model-3adc332b69881fa437583d663673f40a>,\n <Future: pending, key: train_a_model-fe58f9b185dc7e4f3dcdce98f7e505cc>,\n <Future: pending, key: train_a_model-23c826afafbf7992cb89c0cc0909bc8e>,\n <Future: pending, key: train_a_model-6fcd8324f558dcb5fd59d055a1d17efe>,\n <Future: pending, key: train_a_model-c29e936977ee1a8fb17127b05f3651b8>,\n <Future: pending, key: train_a_model-cf28d2a1216f884e563b3c41bfc7a014>,\n <Future: pending, key: train_a_model-4d65f0200919912e337e114fe40a260f>,\n <Future: pending, key: train_a_model-6999cabe57cff75ec189e68bfb47207a>,\n <Future: pending, key: train_a_model-77a83ccc26dfef66a85b321c63175e01>,\n <Future: pending, key: train_a_model-cc11836238a682b1dc3f701e588cd285>,\n <Future: pending, key: train_a_model-82c5281c23f3668fa7f354bd9e6e7d9e>,\n <Future: pending, key: train_a_model-c54e37cd35aaa6abc6a358763cad510a>,\n <Future: pending, key: train_a_model-6956408aba0c3a1371bbdc673b8a04f3>,\n <Future: pending, key: train_a_model-07021f2c304ae4d40678bdf5e6ed7c00>,\n <Future: pending, key: train_a_model-f82d73ae5cf12f62dea8b38bf94e5484>,\n <Future: pending, key: train_a_model-6ba0d0d6694726a89c402d8183ccdf6b>,\n <Future: pending, key: train_a_model-0b999bdbc62bf8cf1f7bca83880aff15>,\n <Future: pending, key: train_a_model-6a2d42c4fb6ed1154dfc0a0a6ad2fbf6>,\n <Future: pending, key: train_a_model-a284febbb961a459301e487f7c5cac61>,\n <Future: pending, key: train_a_model-4d79ea5e4aaf0b4be84448b0dbb9abe7>,\n <Future: pending, key: train_a_model-2272ed022c063fa7fe429e0680bf93d2>,\n <Future: pending, key: train_a_model-a25b779b73a04f79c0b3c63406c03eef>,\n <Future: pending, key: train_a_model-fbf0af704ee01d8dc32144e7f0d44ba2>,\n <Future: pending, key: train_a_model-144f5ba110e715970eb25fce73f4c32d>,\n <Future: pending, key: train_a_model-9fadbd6429ffbcbfdb4624163bee9572>,\n <Future: pending, key: train_a_model-ba63c5d259c73aa43ddc45fee65f0c69>,\n <Future: pending, key: train_a_model-a0eb2d7eb35b98cae69f4c6da8250dc7>,\n <Future: pending, key: train_a_model-53bced9581f9d4cc62c369a3df9990ef>,\n <Future: pending, key: train_a_model-a8d2b4e1d63f7b096e34e957141220ab>,\n <Future: pending, key: train_a_model-4b84f7612969954f4fa5c8d4cde4b48b>,\n <Future: pending, key: train_a_model-69e4def7ca9fea58a0daf06d25664052>,\n <Future: pending, key: train_a_model-2f5f4f2265453eb244fd829ccc7f56c4>,\n <Future: pending, key: train_a_model-1e2c76ac5b5bd99b24d2209715f58bf8>,\n <Future: pending, key: train_a_model-9d5bd6bd47e0d7ec8ded779841969279>,\n <Future: pending, key: train_a_model-de09b18ec40f45ace8fc0ef21eea7577>,\n <Future: pending, key: train_a_model-bafe7af05fc9ab8df8e3a7de7dfbec52>,\n <Future: pending, key: train_a_model-592ddcf45d8fdb8cccc01e7ac917e865>,\n <Future: pending, key: train_a_model-8d69592d91aabf53b45c65de8314875a>,\n <Future: pending, key: train_a_model-840b10a0681a557020322d1147c0ddd4>,\n <Future: pending, key: train_a_model-c2d081d4955aa4aedfbfd5acbace59c0>,\n <Future: pending, key: train_a_model-9d25f8029539a918a3f1a158a8d0945b>,\n <Future: pending, key: train_a_model-b6b86c6d43332aa731f9fe97af10f07c>,\n <Future: pending, key: train_a_model-697d09b91aadaf14d36810a4f1e1c07d>,\n <Future: pending, key: train_a_model-d6ad588e6cc7a90c48a80482edc49d26>,\n <Future: pending, key: train_a_model-ccb5e5a847a3ad50354ae9153c8dc58d>,\n <Future: pending, key: train_a_model-00c891e4d78e642b2f1bb15d6e3692f4>,\n <Future: pending, key: train_a_model-f6ae796fb730ee7c0dd0d4bb8726f59f>,\n <Future: pending, key: train_a_model-412966428c957f5b8f3b05399d886260>,\n <Future: pending, key: train_a_model-6d192bef28028eb906a96cc263d206a3>,\n <Future: pending, key: train_a_model-6dcd32b41e8f0361ef6048c04a794321>,\n <Future: pending, key: train_a_model-c88940e6ad404ec4e53dc531f856545a>,\n <Future: pending, key: train_a_model-b828006ab40cec833a5c9171e3752dba>,\n <Future: pending, key: train_a_model-73b96d5cad94c7cad92b0848b11a3894>,\n <Future: pending, key: train_a_model-edc691cb511e2e8913e40bec70ea282f>,\n <Future: pending, key: train_a_model-e1a15971a8e7d9c57ec66cb80a5489e7>,\n <Future: pending, key: train_a_model-8daedd8c05e6a863962920a7d5ee41eb>,\n <Future: pending, key: train_a_model-7e79eca0997d610f35f113a2a3c43c45>,\n <Future: pending, key: train_a_model-2b8d4180eee080fe33e2a2988ede8b6e>,\n <Future: pending, key: train_a_model-30f465b5241a030c5873241d2f69c6f7>,\n <Future: pending, key: train_a_model-95f1727536e9e361dd39204272b3893f>,\n <Future: pending, key: train_a_model-9f7fd5b3d073e745133af2c5c3704092>,\n <Future: pending, key: train_a_model-4acd7a834d3a5dbf915ff246e3bf900b>,\n <Future: pending, key: train_a_model-e733d711e29806cd663e49d0234fff77>,\n <Future: pending, key: train_a_model-9283d49ee4184a3226102d728d129383>,\n <Future: pending, key: train_a_model-1ae70d9c2c6a40daa56a0e7d69e1412d>,\n <Future: pending, key: train_a_model-84ebda5e47175c896b0a85a45b95e530>,\n <Future: pending, key: train_a_model-51c68999adaa5baccef51fdd0ee39358>,\n <Future: pending, key: train_a_model-1fb4bd6489d97ba6f4cbe06d9f52cebe>,\n <Future: pending, key: train_a_model-7cec63e2b3a3bada1683866b9aa40aa9>,\n <Future: pending, key: train_a_model-75be771601d7067d682e9e175cdb09a5>,\n <Future: pending, key: train_a_model-4d2f3ccd3719e6e8ff6f8751bd1a6879>,\n <Future: pending, key: train_a_model-a61fef90f03d8a7830db4e04767fbe65>,\n <Future: pending, key: train_a_model-f105c7c8febc06fe7a343d6c03f08572>,\n <Future: pending, key: train_a_model-e14382a2243ab44130ff9b67dd634450>,\n <Future: pending, key: train_a_model-899001cddd089a3c64b3cebd27099cc4>,\n <Future: pending, key: train_a_model-3d8297e8203adb339dee8aaa72d2057a>,\n <Future: pending, key: train_a_model-c169190f05e5c19c9f37b2ff3380e089>,\n <Future: pending, key: train_a_model-55081827d523c1478d27851a7e7f4a36>,\n <Future: pending, key: train_a_model-40bb3ea70c2540609b844b8aef9327bb>,\n <Future: pending, key: train_a_model-802c86296e81c6465d38123c73d27e9a>,\n <Future: pending, key: train_a_model-bb35e6adde1a8321c8d61b694af31acb>,\n <Future: pending, key: train_a_model-9c9b786d2d084081ce71ffdc089f0266>,\n <Future: pending, key: train_a_model-2df6b1f3bb135d51ef054adeaca9f89e>,\n <Future: pending, key: train_a_model-300648dafd068374063ef7c2c30aad33>,\n <Future: pending, key: train_a_model-15365948295779ed2667168681c337db>,\n <Future: pending, key: train_a_model-aef21cc32cdb8cdea00f9e29b12020f3>,\n <Future: pending, key: train_a_model-487b7d5a56a1f0a72307be6a2f314260>,\n <Future: pending, key: train_a_model-79c5edebb8cc24886d447afc86505e65>,\n <Future: pending, key: train_a_model-05f64f4a6b37998c2ccb1315c6f5384c>,\n <Future: pending, key: train_a_model-e2cef63a5463fa6187cc621e4e7a3a4d>,\n <Future: pending, key: train_a_model-44745fc93d4aa6f24ace6f7af98c7bfe>,\n <Future: pending, key: train_a_model-5cf30bad9adb25618014744c74b9e645>,\n <Future: pending, key: train_a_model-b8ed403beb7a3e4b951cd3d6515d0516>,\n <Future: pending, key: train_a_model-580fe878e40132dc7c97b53cc05b9f71>,\n <Future: pending, key: train_a_model-454861c7cb8cb5cba5a77f3758973d17>,\n <Future: pending, key: train_a_model-5249c42fe427018ac4bdc5f3b37d4140>,\n <Future: pending, key: train_a_model-caee00f7f59398ebc3e16027c431e7cc>,\n <Future: pending, key: train_a_model-bc9d4fdc9b56e22e120522c3b8166673>,\n <Future: pending, key: train_a_model-b27c9e3e9c451afb90dfdbac330930f4>,\n <Future: pending, key: train_a_model-117739982f0b5197ae9e30c569db8292>,\n <Future: pending, key: train_a_model-a30628f5c26d161f0f9ba37c94ac17fc>,\n <Future: pending, key: train_a_model-20a8a4c9a3927f44c9246092150c4e9a>,\n <Future: pending, key: train_a_model-ecd8c1714bd5754ca91ba33179b31ba6>,\n <Future: pending, key: train_a_model-885c4e8217ee5917609032610dfd1c1e>,\n <Future: pending, key: train_a_model-0540eff355592cca3deeb002d65d2dbf>,\n <Future: pending, key: train_a_model-b4896be238dcaec112bad89a9932c13d>,\n <Future: pending, key: train_a_model-0b4fc9ed6493b28e7b0257cf7aad861e>,\n <Future: pending, key: train_a_model-873edb278c584b54cae0294baaaa5824>,\n <Future: pending, key: train_a_model-6ba94ed9cbb7dcb8900b2d65a9cf3977>,\n <Future: pending, key: train_a_model-bbc3b0467ba3812d71f63b1aa48786e9>,\n <Future: pending, key: train_a_model-84669bce609d76cfbe461a9b827c2f78>,\n <Future: pending, key: train_a_model-746f6f2fe70e194c8d7e24de749d40cb>,\n <Future: pending, key: train_a_model-996634deb9fe8e72c19eab13824eedb4>,\n <Future: pending, key: train_a_model-3c5a16a46508ad0cbf5cd0010eb1891c>,\n <Future: pending, key: train_a_model-29d20ee8b09124a1dee3f08e88daf706>,\n <Future: pending, key: train_a_model-62337d90011e7f85dc8f2aa69ff8667d>,\n <Future: pending, key: train_a_model-9c2beef73f685071927562f2c8373fb8>,\n <Future: pending, key: train_a_model-d5777d18358523986d6d1bca6e9b7f99>,\n <Future: pending, key: train_a_model-268c6ab17204f18c936deb9c9ac62e62>,\n <Future: pending, key: train_a_model-a47c93eef93d11cb223a7caa3d1dd377>]"
     },
     "execution_count": 8,
     "metadata": {},
     "output_type": "execute_result"
    }
   ],
   "source": [
    "import dask \n",
    "\n",
    "models = [c.submit(train_a_model, df, params, num_boost_round=num_boost_round) for df in df_train.partitions]\n",
    "models"
   ]
  },
  {
   "cell_type": "code",
   "execution_count": 9,
   "metadata": {},
   "outputs": [
    {
     "data": {
      "text/html": "<b>Future: train_a_model</b> <font color=\"gray\">status: </font><font color=\"black\">pending</font>, <font color=\"gray\">key: </font>train_a_model-84139361f42823467b419618588626d6",
      "text/plain": "<Future: pending, key: train_a_model-84139361f42823467b419618588626d6>"
     },
     "execution_count": 9,
     "metadata": {},
     "output_type": "execute_result"
    }
   ],
   "source": [
    "models[0]"
   ]
  },
  {
   "cell_type": "code",
   "execution_count": null,
   "metadata": {},
   "outputs": [],
   "source": []
  }
 ],
 "metadata": {
  "kernelspec": {
   "display_name": "Python 3.8.5 64-bit ('dkdc': conda)",
   "metadata": {
    "interpreter": {
     "hash": "6813bb6deec483ed15ac37ef074baa52622250b2b65156cf2f3313d85d7e0391"
    }
   },
   "name": "python3"
  },
  "language_info": {
   "codemirror_mode": {
    "name": "ipython",
    "version": 3
   },
   "file_extension": ".py",
   "mimetype": "text/x-python",
   "name": "python",
   "nbconvert_exporter": "python",
   "pygments_lexer": "ipython3",
   "version": "3.8.5"
  }
 },
 "nbformat": 4,
 "nbformat_minor": 4
}